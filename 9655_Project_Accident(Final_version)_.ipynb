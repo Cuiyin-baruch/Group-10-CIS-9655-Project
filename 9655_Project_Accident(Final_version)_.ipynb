{
  "nbformat": 4,
  "nbformat_minor": 0,
  "metadata": {
    "colab": {
      "name": "9655 Project-Accident(Final version) .ipynb",
      "provenance": [],
      "collapsed_sections": [],
      "include_colab_link": true
    },
    "kernelspec": {
      "name": "python3",
      "display_name": "Python 3"
    },
    "language_info": {
      "name": "python"
    }
  },
  "cells": [
    {
      "cell_type": "markdown",
      "metadata": {
        "id": "view-in-github",
        "colab_type": "text"
      },
      "source": [
        "<a href=\"https://colab.research.google.com/github/Cuiyin-baruch/Group-10-CIS-9655-Project/blob/main/9655_Project_Accident(Final_version)_.ipynb\" target=\"_parent\"><img src=\"https://colab.research.google.com/assets/colab-badge.svg\" alt=\"Open In Colab\"/></a>"
      ]
    },
    {
      "cell_type": "code",
      "execution_count": null,
      "metadata": {
        "id": "5T9njr7jS78L"
      },
      "outputs": [],
      "source": [
        "import pandas as pd\n",
        "import numpy as np\n",
        "import seaborn as sns\n",
        "import matplotlib.pyplot as plt\n",
        "%matplotlib inline\n"
      ]
    },
    {
      "cell_type": "code",
      "source": [
        "df1=pd.read_csv(r'https://data.cityofnewyork.us/resource/h9gi-nx95.csv?$limit=5000000',low_memory=False)"
      ],
      "metadata": {
        "id": "_x00x7LxTAL1"
      },
      "execution_count": null,
      "outputs": []
    },
    {
      "cell_type": "code",
      "source": [
        "df1.info()"
      ],
      "metadata": {
        "id": "JrYAw_-vTWFX",
        "colab": {
          "base_uri": "https://localhost:8080/"
        },
        "outputId": "5dde079b-8539-4f2c-a469-fa95ec5a5d44"
      },
      "execution_count": null,
      "outputs": [
        {
          "output_type": "stream",
          "name": "stdout",
          "text": [
            "<class 'pandas.core.frame.DataFrame'>\n",
            "RangeIndex: 1880360 entries, 0 to 1880359\n",
            "Data columns (total 29 columns):\n",
            " #   Column                         Dtype  \n",
            "---  ------                         -----  \n",
            " 0   crash_date                     object \n",
            " 1   crash_time                     object \n",
            " 2   borough                        object \n",
            " 3   zip_code                       object \n",
            " 4   latitude                       float64\n",
            " 5   longitude                      float64\n",
            " 6   location                       object \n",
            " 7   on_street_name                 object \n",
            " 8   off_street_name                object \n",
            " 9   cross_street_name              object \n",
            " 10  number_of_persons_injured      float64\n",
            " 11  number_of_persons_killed       float64\n",
            " 12  number_of_pedestrians_injured  int64  \n",
            " 13  number_of_pedestrians_killed   int64  \n",
            " 14  number_of_cyclist_injured      int64  \n",
            " 15  number_of_cyclist_killed       int64  \n",
            " 16  number_of_motorist_injured     int64  \n",
            " 17  number_of_motorist_killed      int64  \n",
            " 18  contributing_factor_vehicle_1  object \n",
            " 19  contributing_factor_vehicle_2  object \n",
            " 20  contributing_factor_vehicle_3  object \n",
            " 21  contributing_factor_vehicle_4  object \n",
            " 22  contributing_factor_vehicle_5  object \n",
            " 23  collision_id                   int64  \n",
            " 24  vehicle_type_code1             object \n",
            " 25  vehicle_type_code2             object \n",
            " 26  vehicle_type_code_3            object \n",
            " 27  vehicle_type_code_4            object \n",
            " 28  vehicle_type_code_5            object \n",
            "dtypes: float64(4), int64(7), object(18)\n",
            "memory usage: 416.0+ MB\n"
          ]
        }
      ]
    },
    {
      "cell_type": "code",
      "source": [
        "plt.figure(figsize=(10,5))\n",
        "plt.title('ACCIDENTS COUNTPLOT PER BOROUGH')\n",
        "sns.barplot(x=df1.groupby('borough').size().index,\n",
        "            y=df1.groupby('borough').size().values)"
      ],
      "metadata": {
        "id": "jdewLQ1ATe-F",
        "colab": {
          "base_uri": "https://localhost:8080/",
          "height": 367
        },
        "outputId": "0c6ea242-f21b-4e4a-e944-f20a574d5905"
      },
      "execution_count": null,
      "outputs": [
        {
          "output_type": "execute_result",
          "data": {
            "text/plain": [
              "<matplotlib.axes._subplots.AxesSubplot at 0x7f4047cde9d0>"
            ]
          },
          "metadata": {},
          "execution_count": 4
        },
        {
          "output_type": "display_data",
          "data": {
            "text/plain": [
              "<Figure size 720x360 with 1 Axes>"
            ],
            "image/png": "[encoded data removed]"
          },
          "metadata": {
            "needs_background": "light"
          }
        }
      ]
    },
    {
      "cell_type": "code",
      "source": [
        "df4 = df1[['borough','number_of_persons_injured','number_of_persons_killed','number_of_pedestrians_injured','number_of_pedestrians_killed','number_of_cyclist_injured','number_of_cyclist_killed','number_of_motorist_injured','number_of_motorist_killed']]\n",
        "df4.head()\n",
        "df4.dropna()"
      ],
      "metadata": {
        "id": "0Kw8E2znTu6K",
        "colab": {
          "base_uri": "https://localhost:8080/",
          "height": 505
        },
        "outputId": "d9bae961-7d37-446a-b2bd-608ebb6ddd4b"
      },
      "execution_count": null,
      "outputs": [
        {
          "output_type": "execute_result",
          "data": {
            "text/plain": [
              "               borough  number_of_persons_injured  number_of_persons_killed  \\\n",
              "1             BROOKLYN                        1.0                       0.0   \n",
              "3             BROOKLYN                        0.0                       0.0   \n",
              "6               QUEENS                        0.0                       0.0   \n",
              "10            BROOKLYN                        1.0                       0.0   \n",
              "11       STATEN ISLAND                        0.0                       0.0   \n",
              "...                ...                        ...                       ...   \n",
              "1880354       BROOKLYN                        0.0                       0.0   \n",
              "1880355      MANHATTAN                        0.0                       0.0   \n",
              "1880356         QUEENS                        2.0                       0.0   \n",
              "1880357       BROOKLYN                        0.0                       0.0   \n",
              "1880359         QUEENS                        0.0                       0.0   \n",
              "\n",
              "         number_of_pedestrians_injured  number_of_pedestrians_killed  \\\n",
              "1                                    1                             0   \n",
              "3                                    0                             0   \n",
              "6                                    0                             0   \n",
              "10                                   1                             0   \n",
              "11                                   0                             0   \n",
              "...                                ...                           ...   \n",
              "1880354                              0                             0   \n",
              "1880355                              0                             0   \n",
              "1880356                              0                             0   \n",
              "1880357                              0                             0   \n",
              "1880359                              0                             0   \n",
              "\n",
              "         number_of_cyclist_injured  number_of_cyclist_killed  \\\n",
              "1                                0                         0   \n",
              "3                                0                         0   \n",
              "6                                0                         0   \n",
              "10                               0                         0   \n",
              "11                               0                         0   \n",
              "...                            ...                       ...   \n",
              "1880354                          0                         0   \n",
              "1880355                          0                         0   \n",
              "1880356                          0                         0   \n",
              "1880357                          0                         0   \n",
              "1880359                          0                         0   \n",
              "\n",
              "         number_of_motorist_injured  number_of_motorist_killed  \n",
              "1                                 0                          0  \n",
              "3                                 0                          0  \n",
              "6                                 0                          0  \n",
              "10                                0                          0  \n",
              "11                                0                          0  \n",
              "...                             ...                        ...  \n",
              "1880354                           0                          0  \n",
              "1880355                           0                          0  \n",
              "1880356                           2                          0  \n",
              "1880357                           0                          0  \n",
              "1880359                           0                          0  \n",
              "\n",
              "[1298290 rows x 9 columns]"
            ],
            "text/html": [
              "\n",
              "  <div id=\"df-9b3ae4ca-ed2c-418e-b5f9-aec050da38bf\">\n",
              "    <div class=\"colab-df-container\">\n",
              "      <div>\n",
              "<style scoped>\n",
              "    .dataframe tbody tr th:only-of-type {\n",
              "        vertical-align: middle;\n",
              "    }\n",
              "\n",
              "    .dataframe tbody tr th {\n",
              "        vertical-align: top;\n",
              "    }\n",
              "\n",
              "    .dataframe thead th {\n",
              "        text-align: right;\n",
              "    }\n",
              "</style>\n",
              "<table border=\"1\" class=\"dataframe\">\n",
              "  <thead>\n",
              "    <tr style=\"text-align: right;\">\n",
              "      <th></th>\n",
              "      <th>borough</th>\n",
              "      <th>number_of_persons_injured</th>\n",
              "      <th>number_of_persons_killed</th>\n",
              "      <th>number_of_pedestrians_injured</th>\n",
              "      <th>number_of_pedestrians_killed</th>\n",
              "      <th>number_of_cyclist_injured</th>\n",
              "      <th>number_of_cyclist_killed</th>\n",
              "      <th>number_of_motorist_injured</th>\n",
              "      <th>number_of_motorist_killed</th>\n",
              "    </tr>\n",
              "  </thead>\n",
              "  <tbody>\n",
              "    <tr>\n",
              "      <th>1</th>\n",
              "      <td>BROOKLYN</td>\n",
              "      <td>1.0</td>\n",
              "      <td>0.0</td>\n",
              "      <td>1</td>\n",
              "      <td>0</td>\n",
              "      <td>0</td>\n",
              "      <td>0</td>\n",
              "      <td>0</td>\n",
              "      <td>0</td>\n",
              "    </tr>\n",
              "    <tr>\n",
              "      <th>3</th>\n",
              "      <td>BROOKLYN</td>\n",
              "      <td>0.0</td>\n",
              "      <td>0.0</td>\n",
              "      <td>0</td>\n",
              "      <td>0</td>\n",
              "      <td>0</td>\n",
              "      <td>0</td>\n",
              "      <td>0</td>\n",
              "      <td>0</td>\n",
              "    </tr>\n",
              "    <tr>\n",
              "      <th>6</th>\n",
              "      <td>QUEENS</td>\n",
              "      <td>0.0</td>\n",
              "      <td>0.0</td>\n",
              "      <td>0</td>\n",
              "      <td>0</td>\n",
              "      <td>0</td>\n",
              "      <td>0</td>\n",
              "      <td>0</td>\n",
              "      <td>0</td>\n",
              "    </tr>\n",
              "    <tr>\n",
              "      <th>10</th>\n",
              "      <td>BROOKLYN</td>\n",
              "      <td>1.0</td>\n",
              "      <td>0.0</td>\n",
              "      <td>1</td>\n",
              "      <td>0</td>\n",
              "      <td>0</td>\n",
              "      <td>0</td>\n",
              "      <td>0</td>\n",
              "      <td>0</td>\n",
              "    </tr>\n",
              "    <tr>\n",
              "      <th>11</th>\n",
              "      <td>STATEN ISLAND</td>\n",
              "      <td>0.0</td>\n",
              "      <td>0.0</td>\n",
              "      <td>0</td>\n",
              "      <td>0</td>\n",
              "      <td>0</td>\n",
              "      <td>0</td>\n",
              "      <td>0</td>\n",
              "      <td>0</td>\n",
              "    </tr>\n",
              "    <tr>\n",
              "      <th>...</th>\n",
              "      <td>...</td>\n",
              "      <td>...</td>\n",
              "      <td>...</td>\n",
              "      <td>...</td>\n",
              "      <td>...</td>\n",
              "      <td>...</td>\n",
              "      <td>...</td>\n",
              "      <td>...</td>\n",
              "      <td>...</td>\n",
              "    </tr>\n",
              "    <tr>\n",
              "      <th>1880354</th>\n",
              "      <td>BROOKLYN</td>\n",
              "      <td>0.0</td>\n",
              "      <td>0.0</td>\n",
              "      <td>0</td>\n",
              "      <td>0</td>\n",
              "      <td>0</td>\n",
              "      <td>0</td>\n",
              "      <td>0</td>\n",
              "      <td>0</td>\n",
              "    </tr>\n",
              "    <tr>\n",
              "      <th>1880355</th>\n",
              "      <td>MANHATTAN</td>\n",
              "      <td>0.0</td>\n",
              "      <td>0.0</td>\n",
              "      <td>0</td>\n",
              "      <td>0</td>\n",
              "      <td>0</td>\n",
              "      <td>0</td>\n",
              "      <td>0</td>\n",
              "      <td>0</td>\n",
              "    </tr>\n",
              "    <tr>\n",
              "      <th>1880356</th>\n",
              "      <td>QUEENS</td>\n",
              "      <td>2.0</td>\n",
              "      <td>0.0</td>\n",
              "      <td>0</td>\n",
              "      <td>0</td>\n",
              "      <td>0</td>\n",
              "      <td>0</td>\n",
              "      <td>2</td>\n",
              "      <td>0</td>\n",
              "    </tr>\n",
              "    <tr>\n",
              "      <th>1880357</th>\n",
              "      <td>BROOKLYN</td>\n",
              "      <td>0.0</td>\n",
              "      <td>0.0</td>\n",
              "      <td>0</td>\n",
              "      <td>0</td>\n",
              "      <td>0</td>\n",
              "      <td>0</td>\n",
              "      <td>0</td>\n",
              "      <td>0</td>\n",
              "    </tr>\n",
              "    <tr>\n",
              "      <th>1880359</th>\n",
              "      <td>QUEENS</td>\n",
              "      <td>0.0</td>\n",
              "      <td>0.0</td>\n",
              "      <td>0</td>\n",
              "      <td>0</td>\n",
              "      <td>0</td>\n",
              "      <td>0</td>\n",
              "      <td>0</td>\n",
              "      <td>0</td>\n",
              "    </tr>\n",
              "  </tbody>\n",
              "</table>\n",
              "<p>1298290 rows × 9 columns</p>\n",
              "</div>\n",
              "      <button class=\"colab-df-convert\" onclick=\"convertToInteractive('df-9b3ae4ca-ed2c-418e-b5f9-aec050da38bf')\"\n",
              "              title=\"Convert this dataframe to an interactive table.\"\n",
              "              style=\"display:none;\">\n",
              "        \n",
              "  <svg xmlns=\"http://www.w3.org/2000/svg\" height=\"24px\"viewBox=\"0 0 24 24\"\n",
              "       width=\"24px\">\n",
              "    <path d=\"M0 0h24v24H0V0z\" fill=\"none\"/>\n",
              "    <path d=\"M18.56 5.44l.94 2.06.94-2.06 2.06-.94-2.06-.94-.94-2.06-.94 2.06-2.06.94zm-11 1L8.5 8.5l.94-2.06 2.06-.94-2.06-.94L8.5 2.5l-.94 2.06-2.06.94zm10 10l.94 2.06.94-2.06 2.06-.94-2.06-.94-.94-2.06-.94 2.06-2.06.94z\"/><path d=\"M17.41 7.96l-1.37-1.37c-.4-.4-.92-.59-1.43-.59-.52 0-1.04.2-1.43.59L10.3 9.45l-7.72 7.72c-.78.78-.78 2.05 0 2.83L4 21.41c.39.39.9.59 1.41.59.51 0 1.02-.2 1.41-.59l7.78-7.78 2.81-2.81c.8-.78.8-2.07 0-2.86zM5.41 20L4 18.59l7.72-7.72 1.47 1.35L5.41 20z\"/>\n",
              "  </svg>\n",
              "      </button>\n",
              "      \n",
              "  <style>\n",
              "    .colab-df-container {\n",
              "      display:flex;\n",
              "      flex-wrap:wrap;\n",
              "      gap: 12px;\n",
              "    }\n",
              "\n",
              "    .colab-df-convert {\n",
              "      background-color: #E8F0FE;\n",
              "      border: none;\n",
              "      border-radius: 50%;\n",
              "      cursor: pointer;\n",
              "      display: none;\n",
              "      fill: #1967D2;\n",
              "      height: 32px;\n",
              "      padding: 0 0 0 0;\n",
              "      width: 32px;\n",
              "    }\n",
              "\n",
              "    .colab-df-convert:hover {\n",
              "      background-color: #E2EBFA;\n",
              "      box-shadow: 0px 1px 2px rgba(60, 64, 67, 0.3), 0px 1px 3px 1px rgba(60, 64, 67, 0.15);\n",
              "      fill: #174EA6;\n",
              "    }\n",
              "\n",
              "    [theme=dark] .colab-df-convert {\n",
              "      background-color: #3B4455;\n",
              "      fill: #D2E3FC;\n",
              "    }\n",
              "\n",
              "    [theme=dark] .colab-df-convert:hover {\n",
              "      background-color: #434B5C;\n",
              "      box-shadow: 0px 1px 3px 1px rgba(0, 0, 0, 0.15);\n",
              "      filter: drop-shadow(0px 1px 2px rgba(0, 0, 0, 0.3));\n",
              "      fill: #FFFFFF;\n",
              "    }\n",
              "  </style>\n",
              "\n",
              "      <script>\n",
              "        const buttonEl =\n",
              "          document.querySelector('#df-9b3ae4ca-ed2c-418e-b5f9-aec050da38bf button.colab-df-convert');\n",
              "        buttonEl.style.display =\n",
              "          google.colab.kernel.accessAllowed ? 'block' : 'none';\n",
              "\n",
              "        async function convertToInteractive(key) {\n",
              "          const element = document.querySelector('#df-9b3ae4ca-ed2c-418e-b5f9-aec050da38bf');\n",
              "          const dataTable =\n",
              "            await google.colab.kernel.invokeFunction('convertToInteractive',\n",
              "                                                     [key], {});\n",
              "          if (!dataTable) return;\n",
              "\n",
              "          const docLinkHtml = 'Like what you see? Visit the ' +\n",
              "            '<a target=\"_blank\" href=https://colab.research.google.com/notebooks/data_table.ipynb>data table notebook</a>'\n",
              "            + ' to learn more about interactive tables.';\n",
              "          element.innerHTML = '';\n",
              "          dataTable['output_type'] = 'display_data';\n",
              "          await google.colab.output.renderOutput(dataTable, element);\n",
              "          const docLink = document.createElement('div');\n",
              "          docLink.innerHTML = docLinkHtml;\n",
              "          element.appendChild(docLink);\n",
              "        }\n",
              "      </script>\n",
              "    </div>\n",
              "  </div>\n",
              "  "
            ]
          },
          "metadata": {},
          "execution_count": 5
        }
      ]
    },
    {
      "cell_type": "code",
      "source": [
        "fig=plt.figure(figsize=(20,5))\n",
        "ax1=fig.add_subplot(1,2,1)\n",
        "df4['number_of_persons_injured'].groupby(df4['borough']).sum().plot(kind=\"barh\", color = \"blue\")\n",
        "plt.title(\"Total Injured Per Borough\")\n",
        "\n",
        "ax2=fig.add_subplot(1,2,2)\n",
        "df4['number_of_persons_killed'].groupby(df4['borough']).sum().plot(kind=\"barh\", color = \"red\")\n",
        "plt.title(\"Total Killed Per Borough\")"
      ],
      "metadata": {
        "id": "uAIA7i1RT0l_",
        "colab": {
          "base_uri": "https://localhost:8080/",
          "height": 354
        },
        "outputId": "5d907ba5-92e3-4338-e7fb-f4a50a314d47"
      },
      "execution_count": null,
      "outputs": [
        {
          "output_type": "execute_result",
          "data": {
            "text/plain": [
              "Text(0.5, 1.0, 'Total Killed Per Borough')"
            ]
          },
          "metadata": {},
          "execution_count": 16
        },
        {
          "output_type": "display_data",
          "data": {
            "text/plain": [
              "<Figure size 1440x360 with 2 Axes>"
            ],
            "image/png": "[encoded data removed]"
          },
          "metadata": {
            "needs_background": "light"
          }
        }
      ]
    },
    {
      "cell_type": "code",
      "source": [
        "plt.figure(figsize=(20,8))\n",
        "df5 = df4[['borough','number_of_pedestrians_injured','number_of_cyclist_injured','number_of_motorist_injured']]\n",
        "df5.dropna()\n",
        "ax3=fig.add_subplot(1,2,1)\n",
        "df5.groupby(df5['borough']).sum().plot(kind=\"barh\")\n",
        "plt.title('Number of Injured')"
      ],
      "metadata": {
        "colab": {
          "base_uri": "https://localhost:8080/",
          "height": 370
        },
        "id": "vNYElKm75NhX",
        "outputId": "a323fec6-076c-4fd8-d88d-a9f215f7ef2f"
      },
      "execution_count": null,
      "outputs": [
        {
          "output_type": "stream",
          "name": "stderr",
          "text": [
            "/usr/local/lib/python3.7/dist-packages/ipykernel_launcher.py:4: MatplotlibDeprecationWarning: Adding an axes using the same arguments as a previous axes currently reuses the earlier instance.  In a future version, a new instance will always be created and returned.  Meanwhile, this warning can be suppressed, and the future behavior ensured, by passing a unique label to each axes instance.\n",
            "  after removing the cwd from sys.path.\n"
          ]
        },
        {
          "output_type": "execute_result",
          "data": {
            "text/plain": [
              "Text(0.5, 1.0, 'Number of Injured')"
            ]
          },
          "metadata": {},
          "execution_count": 17
        },
        {
          "output_type": "display_data",
          "data": {
            "text/plain": [
              "<Figure size 1440x576 with 0 Axes>"
            ]
          },
          "metadata": {}
        },
        {
          "output_type": "display_data",
          "data": {
            "text/plain": [
              "<Figure size 432x288 with 1 Axes>"
            ],
            "image/png": "[encoded data removed]"
          },
          "metadata": {
            "needs_background": "light"
          }
        }
      ]
    },
    {
      "cell_type": "code",
      "source": [
        "plt.figure(figsize=(20,8))\n",
        "df6 = df4[['borough','number_of_pedestrians_killed','number_of_cyclist_killed','number_of_motorist_killed']]\n",
        "df6.dropna()\n",
        "ax4=fig.add_subplot(1,2,1)\n",
        "df6.groupby(df6['borough']).sum().plot(kind=\"barh\")\n",
        "plt.title('Number of killed')"
      ],
      "metadata": {
        "id": "4BuyU7_WesNA",
        "colab": {
          "base_uri": "https://localhost:8080/",
          "height": 370
        },
        "outputId": "d10ffb2f-7bdd-418d-9b37-d1f945f99dfe"
      },
      "execution_count": null,
      "outputs": [
        {
          "output_type": "stream",
          "name": "stderr",
          "text": [
            "/usr/local/lib/python3.7/dist-packages/ipykernel_launcher.py:4: MatplotlibDeprecationWarning: Adding an axes using the same arguments as a previous axes currently reuses the earlier instance.  In a future version, a new instance will always be created and returned.  Meanwhile, this warning can be suppressed, and the future behavior ensured, by passing a unique label to each axes instance.\n",
            "  after removing the cwd from sys.path.\n"
          ]
        },
        {
          "output_type": "execute_result",
          "data": {
            "text/plain": [
              "Text(0.5, 1.0, 'Number of killed')"
            ]
          },
          "metadata": {},
          "execution_count": 8
        },
        {
          "output_type": "display_data",
          "data": {
            "text/plain": [
              "<Figure size 1440x576 with 0 Axes>"
            ]
          },
          "metadata": {}
        },
        {
          "output_type": "display_data",
          "data": {
            "text/plain": [
              "<Figure size 432x288 with 1 Axes>"
            ],
            "image/png": "[encoded data removed]"
          },
          "metadata": {
            "needs_background": "light"
          }
        }
      ]
    },
    {
      "cell_type": "code",
      "source": [
        "df1.index"
      ],
      "metadata": {
        "id": "q7AYrWdbjS21",
        "colab": {
          "base_uri": "https://localhost:8080/"
        },
        "outputId": "5bc9ccc9-2004-4c92-8abd-827a18ec0cbb"
      },
      "execution_count": null,
      "outputs": [
        {
          "output_type": "execute_result",
          "data": {
            "text/plain": [
              "RangeIndex(start=0, stop=1880360, step=1)"
            ]
          },
          "metadata": {},
          "execution_count": 9
        }
      ]
    },
    {
      "cell_type": "code",
      "source": [
        "type(df1.index)"
      ],
      "metadata": {
        "id": "KkitTH3awNZZ",
        "colab": {
          "base_uri": "https://localhost:8080/"
        },
        "outputId": "52761388-6aeb-40ee-e837-9f2bfbf85022"
      },
      "execution_count": null,
      "outputs": [
        {
          "output_type": "execute_result",
          "data": {
            "text/plain": [
              "pandas.core.indexes.range.RangeIndex"
            ]
          },
          "metadata": {},
          "execution_count": 10
        }
      ]
    },
    {
      "cell_type": "code",
      "source": [
        "df1.crash_date = pd.to_datetime(df1.crash_date)\n",
        "df1['year'] = df1.crash_date.dt.year\n",
        "df1['day_of_week'] = df1.crash_date.dt.dayofweek\n",
        "df1.crash_time = df1.crash_time.astype(str)\n",
        "df1.crash_time = [i[:2] if len(i) == 4 else i[0] for i in df1[\"crash_time\"]]\n",
        "df1.crash_time = df1.crash_time.astype(str)\n",
        "df1.index = pd.DatetimeIndex(df1.crash_date)"
      ],
      "metadata": {
        "id": "qknQRInTx3Ho"
      },
      "execution_count": null,
      "outputs": []
    },
    {
      "cell_type": "code",
      "source": [
        "# From the graph below, we can see that the frequency of collision accidents\n",
        "month_df1 = df1.resample('M').size()\n",
        "plt.figure(figsize=(15,6))\n",
        "month_df1.plot(label='Total accidents per month', color='blue')\n",
        "month_df1.rolling(window=12).mean().plot(color='red', linewidth=5, label='12-Months Average')\n",
        "plt.title('Crash Accident Trend', fontsize=16)\n",
        "\n",
        "# Months with the fewest accidents and months with the most accidents\n",
        "print(\"The Fewest Accident Month {0}: {1}\".format(month_df1.idxmin(), month_df1[month_df1.idxmin()]))\n",
        "print(\"The Most Accident Month {0}: {1}\".format(month_df1.idxmax(), month_df1[month_df1.idxmax()]))"
      ],
      "metadata": {
        "id": "pLgcEikHOsQ4",
        "colab": {
          "base_uri": "https://localhost:8080/",
          "height": 442
        },
        "outputId": "45207dd4-2091-4ea9-816c-93971016dc7d"
      },
      "execution_count": null,
      "outputs": [
        {
          "output_type": "stream",
          "name": "stdout",
          "text": [
            "The Fewest Accident Month 2022-04-30 00:00:00: 1151\n",
            "The Most Accident Month 2017-06-30 00:00:00: 21373\n"
          ]
        },
        {
          "output_type": "display_data",
          "data": {
            "text/plain": [
              "<Figure size 1080x432 with 1 Axes>"
            ],
            "image/png": "[encoded data removed]"
          },
          "metadata": {
            "needs_background": "light"
          }
        }
      ]
    },
    {
      "cell_type": "code",
      "source": [
        "weekdays = [\"Sun\", \"Mon\", \"Tue\", \"Wed\", \"Thu\", \"Fri\", \"Sat\"]\n",
        "week_df = pd.DataFrame(df1[\"day_of_week\"].value_counts()).sort_index()\n",
        "week_df[\"day\"] = weekdays\n",
        "week_df.columns = [\"Accidents per weekday\", \"Week day\"]\n",
        "week_df\n",
        "plt.figure(figsize=(20,10))\n",
        "sns.relplot(x=\"Week day\", y=\"Accidents per weekday\", kind = \"line\", data=week_df, color = \"blue\")\n",
        "sns.barplot(x=\"Week day\", y=\"Accidents per weekday\", data=week_df)"
      ],
      "metadata": {
        "id": "y7c6CPwYRxxJ",
        "colab": {
          "base_uri": "https://localhost:8080/",
          "height": 404
        },
        "outputId": "b25f199c-65fb-4c44-8590-c3b408fd359b"
      },
      "execution_count": null,
      "outputs": [
        {
          "output_type": "execute_result",
          "data": {
            "text/plain": [
              "<matplotlib.axes._subplots.AxesSubplot at 0x7f40455779d0>"
            ]
          },
          "metadata": {},
          "execution_count": 13
        },
        {
          "output_type": "display_data",
          "data": {
            "text/plain": [
              "<Figure size 1440x720 with 0 Axes>"
            ]
          },
          "metadata": {}
        },
        {
          "output_type": "display_data",
          "data": {
            "text/plain": [
              "<Figure size 360x360 with 1 Axes>"
            ],
            "image/png": "[encoded data removed]"
          },
          "metadata": {
            "needs_background": "light"
          }
        }
      ]
    },
    {
      "cell_type": "code",
      "source": [
        "df8 = df1[['vehicle_type_code1','vehicle_type_code2','vehicle_type_code_3','vehicle_type_code_4','vehicle_type_code_5']]\n",
        "df8.head()\n",
        "df8.dropna()"
      ],
      "metadata": {
        "colab": {
          "base_uri": "https://localhost:8080/",
          "height": 455
        },
        "id": "aTprYJwXl58q",
        "outputId": "c44bb614-71f0-42d2-d5ce-3a026af348b8"
      },
      "execution_count": null,
      "outputs": [
        {
          "output_type": "execute_result",
          "data": {
            "text/plain": [
              "                             vehicle_type_code1  \\\n",
              "crash_date                                        \n",
              "2021-04-11                                Sedan   \n",
              "2021-04-13  Station Wagon/Sport Utility Vehicle   \n",
              "2021-04-16                            Box Truck   \n",
              "2021-04-16                        Pick-up Truck   \n",
              "2021-04-17                                Sedan   \n",
              "...                                         ...   \n",
              "2012-07-09                    PASSENGER VEHICLE   \n",
              "2012-07-06                    PASSENGER VEHICLE   \n",
              "2012-07-05                    PASSENGER VEHICLE   \n",
              "2012-07-05                    PASSENGER VEHICLE   \n",
              "2012-07-06                    PASSENGER VEHICLE   \n",
              "\n",
              "                             vehicle_type_code2  \\\n",
              "crash_date                                        \n",
              "2021-04-11                                Sedan   \n",
              "2021-04-13                        Pick-up Truck   \n",
              "2021-04-16                                Sedan   \n",
              "2021-04-16  Station Wagon/Sport Utility Vehicle   \n",
              "2021-04-17                                Sedan   \n",
              "...                                         ...   \n",
              "2012-07-09                    PASSENGER VEHICLE   \n",
              "2012-07-06                    PASSENGER VEHICLE   \n",
              "2012-07-05                    PASSENGER VEHICLE   \n",
              "2012-07-05        SPORT UTILITY / STATION WAGON   \n",
              "2012-07-06                    PASSENGER VEHICLE   \n",
              "\n",
              "                            vehicle_type_code_3  \\\n",
              "crash_date                                        \n",
              "2021-04-11  Station Wagon/Sport Utility Vehicle   \n",
              "2021-04-13  Station Wagon/Sport Utility Vehicle   \n",
              "2021-04-16  Station Wagon/Sport Utility Vehicle   \n",
              "2021-04-16  Station Wagon/Sport Utility Vehicle   \n",
              "2021-04-17                                Sedan   \n",
              "...                                         ...   \n",
              "2012-07-09        SPORT UTILITY / STATION WAGON   \n",
              "2012-07-06                    PASSENGER VEHICLE   \n",
              "2012-07-05                    PASSENGER VEHICLE   \n",
              "2012-07-05                    PASSENGER VEHICLE   \n",
              "2012-07-06                    PASSENGER VEHICLE   \n",
              "\n",
              "                            vehicle_type_code_4  \\\n",
              "crash_date                                        \n",
              "2021-04-11                                Sedan   \n",
              "2021-04-13  Station Wagon/Sport Utility Vehicle   \n",
              "2021-04-16                                Sedan   \n",
              "2021-04-16                                Sedan   \n",
              "2021-04-17                                Sedan   \n",
              "...                                         ...   \n",
              "2012-07-09                    PASSENGER VEHICLE   \n",
              "2012-07-06        SPORT UTILITY / STATION WAGON   \n",
              "2012-07-05                    PASSENGER VEHICLE   \n",
              "2012-07-05        SPORT UTILITY / STATION WAGON   \n",
              "2012-07-06                    PASSENGER VEHICLE   \n",
              "\n",
              "                            vehicle_type_code_5  \n",
              "crash_date                                       \n",
              "2021-04-11                                Sedan  \n",
              "2021-04-13                                Sedan  \n",
              "2021-04-16  Station Wagon/Sport Utility Vehicle  \n",
              "2021-04-16  Station Wagon/Sport Utility Vehicle  \n",
              "2021-04-17                                Sedan  \n",
              "...                                         ...  \n",
              "2012-07-09                    PASSENGER VEHICLE  \n",
              "2012-07-06                    PASSENGER VEHICLE  \n",
              "2012-07-05                    PASSENGER VEHICLE  \n",
              "2012-07-05                    PASSENGER VEHICLE  \n",
              "2012-07-06                    PASSENGER VEHICLE  \n",
              "\n",
              "[7433 rows x 5 columns]"
            ],
            "text/html": [
              "\n",
              "  <div id=\"df-99a55e68-57ad-4768-bf03-3f1082a9f2e3\">\n",
              "    <div class=\"colab-df-container\">\n",
              "      <div>\n",
              "<style scoped>\n",
              "    .dataframe tbody tr th:only-of-type {\n",
              "        vertical-align: middle;\n",
              "    }\n",
              "\n",
              "    .dataframe tbody tr th {\n",
              "        vertical-align: top;\n",
              "    }\n",
              "\n",
              "    .dataframe thead th {\n",
              "        text-align: right;\n",
              "    }\n",
              "</style>\n",
              "<table border=\"1\" class=\"dataframe\">\n",
              "  <thead>\n",
              "    <tr style=\"text-align: right;\">\n",
              "      <th></th>\n",
              "      <th>vehicle_type_code1</th>\n",
              "      <th>vehicle_type_code2</th>\n",
              "      <th>vehicle_type_code_3</th>\n",
              "      <th>vehicle_type_code_4</th>\n",
              "      <th>vehicle_type_code_5</th>\n",
              "    </tr>\n",
              "    <tr>\n",
              "      <th>crash_date</th>\n",
              "      <th></th>\n",
              "      <th></th>\n",
              "      <th></th>\n",
              "      <th></th>\n",
              "      <th></th>\n",
              "    </tr>\n",
              "  </thead>\n",
              "  <tbody>\n",
              "    <tr>\n",
              "      <th>2021-04-11</th>\n",
              "      <td>Sedan</td>\n",
              "      <td>Sedan</td>\n",
              "      <td>Station Wagon/Sport Utility Vehicle</td>\n",
              "      <td>Sedan</td>\n",
              "      <td>Sedan</td>\n",
              "    </tr>\n",
              "    <tr>\n",
              "      <th>2021-04-13</th>\n",
              "      <td>Station Wagon/Sport Utility Vehicle</td>\n",
              "      <td>Pick-up Truck</td>\n",
              "      <td>Station Wagon/Sport Utility Vehicle</td>\n",
              "      <td>Station Wagon/Sport Utility Vehicle</td>\n",
              "      <td>Sedan</td>\n",
              "    </tr>\n",
              "    <tr>\n",
              "      <th>2021-04-16</th>\n",
              "      <td>Box Truck</td>\n",
              "      <td>Sedan</td>\n",
              "      <td>Station Wagon/Sport Utility Vehicle</td>\n",
              "      <td>Sedan</td>\n",
              "      <td>Station Wagon/Sport Utility Vehicle</td>\n",
              "    </tr>\n",
              "    <tr>\n",
              "      <th>2021-04-16</th>\n",
              "      <td>Pick-up Truck</td>\n",
              "      <td>Station Wagon/Sport Utility Vehicle</td>\n",
              "      <td>Station Wagon/Sport Utility Vehicle</td>\n",
              "      <td>Sedan</td>\n",
              "      <td>Station Wagon/Sport Utility Vehicle</td>\n",
              "    </tr>\n",
              "    <tr>\n",
              "      <th>2021-04-17</th>\n",
              "      <td>Sedan</td>\n",
              "      <td>Sedan</td>\n",
              "      <td>Sedan</td>\n",
              "      <td>Sedan</td>\n",
              "      <td>Sedan</td>\n",
              "    </tr>\n",
              "    <tr>\n",
              "      <th>...</th>\n",
              "      <td>...</td>\n",
              "      <td>...</td>\n",
              "      <td>...</td>\n",
              "      <td>...</td>\n",
              "      <td>...</td>\n",
              "    </tr>\n",
              "    <tr>\n",
              "      <th>2012-07-09</th>\n",
              "      <td>PASSENGER VEHICLE</td>\n",
              "      <td>PASSENGER VEHICLE</td>\n",
              "      <td>SPORT UTILITY / STATION WAGON</td>\n",
              "      <td>PASSENGER VEHICLE</td>\n",
              "      <td>PASSENGER VEHICLE</td>\n",
              "    </tr>\n",
              "    <tr>\n",
              "      <th>2012-07-06</th>\n",
              "      <td>PASSENGER VEHICLE</td>\n",
              "      <td>PASSENGER VEHICLE</td>\n",
              "      <td>PASSENGER VEHICLE</td>\n",
              "      <td>SPORT UTILITY / STATION WAGON</td>\n",
              "      <td>PASSENGER VEHICLE</td>\n",
              "    </tr>\n",
              "    <tr>\n",
              "      <th>2012-07-05</th>\n",
              "      <td>PASSENGER VEHICLE</td>\n",
              "      <td>PASSENGER VEHICLE</td>\n",
              "      <td>PASSENGER VEHICLE</td>\n",
              "      <td>PASSENGER VEHICLE</td>\n",
              "      <td>PASSENGER VEHICLE</td>\n",
              "    </tr>\n",
              "    <tr>\n",
              "      <th>2012-07-05</th>\n",
              "      <td>PASSENGER VEHICLE</td>\n",
              "      <td>SPORT UTILITY / STATION WAGON</td>\n",
              "      <td>PASSENGER VEHICLE</td>\n",
              "      <td>SPORT UTILITY / STATION WAGON</td>\n",
              "      <td>PASSENGER VEHICLE</td>\n",
              "    </tr>\n",
              "    <tr>\n",
              "      <th>2012-07-06</th>\n",
              "      <td>PASSENGER VEHICLE</td>\n",
              "      <td>PASSENGER VEHICLE</td>\n",
              "      <td>PASSENGER VEHICLE</td>\n",
              "      <td>PASSENGER VEHICLE</td>\n",
              "      <td>PASSENGER VEHICLE</td>\n",
              "    </tr>\n",
              "  </tbody>\n",
              "</table>\n",
              "<p>7433 rows × 5 columns</p>\n",
              "</div>\n",
              "      <button class=\"colab-df-convert\" onclick=\"convertToInteractive('df-99a55e68-57ad-4768-bf03-3f1082a9f2e3')\"\n",
              "              title=\"Convert this dataframe to an interactive table.\"\n",
              "              style=\"display:none;\">\n",
              "        \n",
              "  <svg xmlns=\"http://www.w3.org/2000/svg\" height=\"24px\"viewBox=\"0 0 24 24\"\n",
              "       width=\"24px\">\n",
              "    <path d=\"M0 0h24v24H0V0z\" fill=\"none\"/>\n",
              "    <path d=\"M18.56 5.44l.94 2.06.94-2.06 2.06-.94-2.06-.94-.94-2.06-.94 2.06-2.06.94zm-11 1L8.5 8.5l.94-2.06 2.06-.94-2.06-.94L8.5 2.5l-.94 2.06-2.06.94zm10 10l.94 2.06.94-2.06 2.06-.94-2.06-.94-.94-2.06-.94 2.06-2.06.94z\"/><path d=\"M17.41 7.96l-1.37-1.37c-.4-.4-.92-.59-1.43-.59-.52 0-1.04.2-1.43.59L10.3 9.45l-7.72 7.72c-.78.78-.78 2.05 0 2.83L4 21.41c.39.39.9.59 1.41.59.51 0 1.02-.2 1.41-.59l7.78-7.78 2.81-2.81c.8-.78.8-2.07 0-2.86zM5.41 20L4 18.59l7.72-7.72 1.47 1.35L5.41 20z\"/>\n",
              "  </svg>\n",
              "      </button>\n",
              "      \n",
              "  <style>\n",
              "    .colab-df-container {\n",
              "      display:flex;\n",
              "      flex-wrap:wrap;\n",
              "      gap: 12px;\n",
              "    }\n",
              "\n",
              "    .colab-df-convert {\n",
              "      background-color: #E8F0FE;\n",
              "      border: none;\n",
              "      border-radius: 50%;\n",
              "      cursor: pointer;\n",
              "      display: none;\n",
              "      fill: #1967D2;\n",
              "      height: 32px;\n",
              "      padding: 0 0 0 0;\n",
              "      width: 32px;\n",
              "    }\n",
              "\n",
              "    .colab-df-convert:hover {\n",
              "      background-color: #E2EBFA;\n",
              "      box-shadow: 0px 1px 2px rgba(60, 64, 67, 0.3), 0px 1px 3px 1px rgba(60, 64, 67, 0.15);\n",
              "      fill: #174EA6;\n",
              "    }\n",
              "\n",
              "    [theme=dark] .colab-df-convert {\n",
              "      background-color: #3B4455;\n",
              "      fill: #D2E3FC;\n",
              "    }\n",
              "\n",
              "    [theme=dark] .colab-df-convert:hover {\n",
              "      background-color: #434B5C;\n",
              "      box-shadow: 0px 1px 3px 1px rgba(0, 0, 0, 0.15);\n",
              "      filter: drop-shadow(0px 1px 2px rgba(0, 0, 0, 0.3));\n",
              "      fill: #FFFFFF;\n",
              "    }\n",
              "  </style>\n",
              "\n",
              "      <script>\n",
              "        const buttonEl =\n",
              "          document.querySelector('#df-99a55e68-57ad-4768-bf03-3f1082a9f2e3 button.colab-df-convert');\n",
              "        buttonEl.style.display =\n",
              "          google.colab.kernel.accessAllowed ? 'block' : 'none';\n",
              "\n",
              "        async function convertToInteractive(key) {\n",
              "          const element = document.querySelector('#df-99a55e68-57ad-4768-bf03-3f1082a9f2e3');\n",
              "          const dataTable =\n",
              "            await google.colab.kernel.invokeFunction('convertToInteractive',\n",
              "                                                     [key], {});\n",
              "          if (!dataTable) return;\n",
              "\n",
              "          const docLinkHtml = 'Like what you see? Visit the ' +\n",
              "            '<a target=\"_blank\" href=https://colab.research.google.com/notebooks/data_table.ipynb>data table notebook</a>'\n",
              "            + ' to learn more about interactive tables.';\n",
              "          element.innerHTML = '';\n",
              "          dataTable['output_type'] = 'display_data';\n",
              "          await google.colab.output.renderOutput(dataTable, element);\n",
              "          const docLink = document.createElement('div');\n",
              "          docLink.innerHTML = docLinkHtml;\n",
              "          element.appendChild(docLink);\n",
              "        }\n",
              "      </script>\n",
              "    </div>\n",
              "  </div>\n",
              "  "
            ]
          },
          "metadata": {},
          "execution_count": 49
        }
      ]
    },
    {
      "cell_type": "code",
      "source": [
        "df8['vehicle_type_code1'].value_counts()"
      ],
      "metadata": {
        "colab": {
          "base_uri": "https://localhost:8080/"
        },
        "id": "WchXyWJPmojP",
        "outputId": "20943b28-12a3-41a4-b2e3-eade7b22686c"
      },
      "execution_count": null,
      "outputs": [
        {
          "output_type": "execute_result",
          "data": {
            "text/plain": [
              "Sedan                                  486692\n",
              "PASSENGER VEHICLE                      416206\n",
              "Station Wagon/Sport Utility Vehicle    386026\n",
              "SPORT UTILITY / STATION WAGON          180291\n",
              "Taxi                                    46449\n",
              "                                        ...  \n",
              "Yamaha                                      1\n",
              "MOVING TRU                                  1\n",
              "crane boom                                  1\n",
              "Post offic                                  1\n",
              "principle                                   1\n",
              "Name: vehicle_type_code1, Length: 1353, dtype: int64"
            ]
          },
          "metadata": {},
          "execution_count": 33
        }
      ]
    },
    {
      "cell_type": "code",
      "source": [
        "df8['vehicle_type_code2'].value_counts()"
      ],
      "metadata": {
        "colab": {
          "base_uri": "https://localhost:8080/"
        },
        "id": "vS0LHYZJpy6f",
        "outputId": "430d9ea4-c567-499c-a56a-8570be5d63c3"
      },
      "execution_count": null,
      "outputs": [
        {
          "output_type": "execute_result",
          "data": {
            "text/plain": [
              "Sedan                                  351394\n",
              "PASSENGER VEHICLE                      318607\n",
              "Station Wagon/Sport Utility Vehicle    287386\n",
              "SPORT UTILITY / STATION WAGON          140204\n",
              "UNKNOWN                                 81473\n",
              "                                        ...  \n",
              "Trailer tr                                  1\n",
              "MTA WORK T                                  1\n",
              "Stak                                        1\n",
              "Train cart                                  1\n",
              "LSA                                         1\n",
              "Name: vehicle_type_code2, Length: 1506, dtype: int64"
            ]
          },
          "metadata": {},
          "execution_count": 43
        }
      ]
    },
    {
      "cell_type": "code",
      "source": [
        "df8['vehicle_type_code_3'].value_counts()"
      ],
      "metadata": {
        "colab": {
          "base_uri": "https://localhost:8080/"
        },
        "id": "72ww3FqurgAy",
        "outputId": "537d6e7c-b3ab-49f9-d967-cc0a62d56b5d"
      },
      "execution_count": null,
      "outputs": [
        {
          "output_type": "execute_result",
          "data": {
            "text/plain": [
              "Sedan                                  36264\n",
              "Station Wagon/Sport Utility Vehicle    29294\n",
              "PASSENGER VEHICLE                      27713\n",
              "SPORT UTILITY / STATION WAGON          13358\n",
              "UNKNOWN                                 3283\n",
              "                                       ...  \n",
              "JEEP                                       1\n",
              "USPS POSTA                                 1\n",
              "UNKOWN                                     1\n",
              "GARBAGE TR                                 1\n",
              "HOME MADE                                  1\n",
              "Name: vehicle_type_code_3, Length: 212, dtype: int64"
            ]
          },
          "metadata": {},
          "execution_count": 44
        }
      ]
    },
    {
      "cell_type": "code",
      "source": [
        "df8['vehicle_type_code_4'].value_counts()"
      ],
      "metadata": {
        "colab": {
          "base_uri": "https://localhost:8080/"
        },
        "id": "qnTbVDMwrjUE",
        "outputId": "7a93f049-b93e-4b38-e859-ab601de99604"
      },
      "execution_count": null,
      "outputs": [
        {
          "output_type": "execute_result",
          "data": {
            "text/plain": [
              "Sedan                                  8558\n",
              "Station Wagon/Sport Utility Vehicle    6924\n",
              "PASSENGER VEHICLE                      5969\n",
              "SPORT UTILITY / STATION WAGON          2852\n",
              "UNKNOWN                                 595\n",
              "                                       ... \n",
              "Deliv                                     1\n",
              "TOW T                                     1\n",
              "trail                                     1\n",
              "dump                                      1\n",
              "PAS 5                                     1\n",
              "Name: vehicle_type_code_4, Length: 85, dtype: int64"
            ]
          },
          "metadata": {},
          "execution_count": 45
        }
      ]
    },
    {
      "cell_type": "code",
      "source": [
        "df8['vehicle_type_code_5'].value_counts()"
      ],
      "metadata": {
        "colab": {
          "base_uri": "https://localhost:8080/"
        },
        "id": "mcMoPhFarlnq",
        "outputId": "dc2ade4a-5415-4f09-8d67-51597686838f"
      },
      "execution_count": null,
      "outputs": [
        {
          "output_type": "execute_result",
          "data": {
            "text/plain": [
              "Sedan                                  2396\n",
              "Station Wagon/Sport Utility Vehicle    1922\n",
              "PASSENGER VEHICLE                      1487\n",
              "SPORT UTILITY / STATION WAGON           802\n",
              "4 dr sedan                              123\n",
              "Pick-up Truck                           115\n",
              "UNKNOWN                                  94\n",
              "Taxi                                     92\n",
              "VAN                                      50\n",
              "OTHER                                    49\n",
              "PICK-UP TRUCK                            31\n",
              "TAXI                                     31\n",
              "Box Truck                                28\n",
              "Van                                      22\n",
              "Motorcycle                               18\n",
              "Bus                                      17\n",
              "2 dr sedan                               14\n",
              "LARGE COM VEH(6 OR MORE TIRES)           13\n",
              "Bike                                     12\n",
              "Convertible                              10\n",
              "SMALL COM VEH(4 TIRES)                   10\n",
              "Tractor Truck Diesel                     10\n",
              "LIVERY VEHICLE                            9\n",
              "BUS                                       8\n",
              "MOTORCYCLE                                7\n",
              "PK                                        7\n",
              "BICYCLE                                   7\n",
              "Dump                                      6\n",
              "Moped                                     4\n",
              "Motorscooter                              3\n",
              "Tractor Truck Gasoline                    3\n",
              "AMBULANCE                                 2\n",
              "SCOOTER                                   2\n",
              "van                                       2\n",
              "E-Scooter                                 2\n",
              "Carry All                                 2\n",
              "Ambulance                                 2\n",
              "Tow Truck / Wrecker                       2\n",
              "TRK                                       1\n",
              "C3                                        1\n",
              "SNOWMOBILE                                1\n",
              "trailer                                   1\n",
              "VAN FORD                                  1\n",
              "BOX Truck                                 1\n",
              "Box truck                                 1\n",
              "TRACTOR TR                                1\n",
              "FRONT                                     1\n",
              "dump                                      1\n",
              "Lunch Wagon                               1\n",
              "Wagon                                     1\n",
              "TRUCK                                     1\n",
              "Chassis Cab                               1\n",
              "Tanker                                    1\n",
              "Bulk Agriculture                          1\n",
              "Flat Rack                                 1\n",
              "OML                                       1\n",
              "back                                      1\n",
              "Name: vehicle_type_code_5, dtype: int64"
            ]
          },
          "metadata": {},
          "execution_count": 46
        }
      ]
    },
    {
      "cell_type": "code",
      "source": [
        "#Top Four type\n",
        "data1 = {'vehicle_type':['Sedan','Station Wagon/Sport Utility Vehicle','PASSENGER VEHICLE','SPORT UTILITY / STATION WAGON'],'vehicle_count':[885304,711552,769982,337507]}\n",
        "df9 = pd.DataFrame(data1)\n",
        "print(df9)"
      ],
      "metadata": {
        "colab": {
          "base_uri": "https://localhost:8080/"
        },
        "id": "fDSCOWgbsYN3",
        "outputId": "14fbe8f9-ea52-41e0-b43a-0d9813fe6441"
      },
      "execution_count": null,
      "outputs": [
        {
          "output_type": "stream",
          "name": "stdout",
          "text": [
            "                          vehicle_type  vehicle_count\n",
            "0                                Sedan         885304\n",
            "1  Station Wagon/Sport Utility Vehicle         711552\n",
            "2                    PASSENGER VEHICLE         769982\n",
            "3        SPORT UTILITY / STATION WAGON         337507\n"
          ]
        }
      ]
    },
    {
      "cell_type": "code",
      "source": [
        "plt.figure(figsize=(15,5))\n",
        "sns.violinplot(x=\"vehicle_type\", y=\"vehicle_count\", data=df9)\n",
        "plt.show()"
      ],
      "metadata": {
        "colab": {
          "base_uri": "https://localhost:8080/",
          "height": 335
        },
        "id": "NSHaSghJ3P_Y",
        "outputId": "376a777b-7bb1-47cd-b66e-7fab9a00ecbd"
      },
      "execution_count": null,
      "outputs": [
        {
          "output_type": "display_data",
          "data": {
            "text/plain": [
              "<Figure size 1080x360 with 1 Axes>"
            ],
            "image/png": "[encoded data removed]"
          },
          "metadata": {
            "needs_background": "light"
          }
        }
      ]
    }
  ]
}